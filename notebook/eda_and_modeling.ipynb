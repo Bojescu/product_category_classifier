{
  "nbformat": 4,
  "nbformat_minor": 0,
  "metadata": {
    "colab": {
      "provenance": [],
      "authorship_tag": "ABX9TyN+kbxghmUrL2Z5eji5tpt+",
      "include_colab_link": true
    },
    "kernelspec": {
      "name": "python3",
      "display_name": "Python 3"
    },
    "language_info": {
      "name": "python"
    }
  },
  "cells": [
    {
      "cell_type": "markdown",
      "metadata": {
        "id": "view-in-github",
        "colab_type": "text"
      },
      "source": [
        "<a href=\"https://colab.research.google.com/github/Bojescu/product_category_classifier/blob/main/notebook/eda_and_modeling.ipynb\" target=\"_parent\"><img src=\"https://colab.research.google.com/assets/colab-badge.svg\" alt=\"Open In Colab\"/></a>"
      ]
    },
    {
      "cell_type": "markdown",
      "source": [
        "### 1. Load and Explore the Dataset\n",
        "\n",
        "In this step, we import the dataset (`products.csv`) and rename the columns to cleaner, Python-friendly names.  \n",
        "This ensures consistency and avoids issues with spaces or special characters in column names.\n",
        "\n",
        "- **Original dataset**: `products.csv` located in the `data/` folder.  \n",
        "- **Action performed**:\n",
        "  - Load the CSV file using `pandas.read_csv()`.\n",
        "  - Rename columns such as:\n",
        "    - `product ID` → `product_id`\n",
        "    - `Product Title` → `title`\n",
        "    - `Merchant ID` → `merchant_id`\n",
        "    - ` Category Label` → `category`\n",
        "    - `_Product Code` → `product_code`\n",
        "    - `Number_of_Views` → `views`\n",
        "    - `Merchant Rating` → `merchant_rating`\n",
        "    - ` Listing Date  ` → `listing_date`\n",
        "\n",
        "Finally, we print the **shape of the dataset** (number of rows and columns) and display the **first few rows** to get an initial overview of the data.\n"
      ],
      "metadata": {
        "id": "oF-yE9uso3NM"
      }
    }
  ]
}